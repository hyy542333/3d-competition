{
 "cells": [
  {
   "cell_type": "markdown",
   "metadata": {
    "collapsed": false
   },
   "source": [
    "# EDA + CenterNet Baseline\n",
    "\n",
    "References:\n",
    "* Took 3D visualization code from https://www.kaggle.com/zstusnoopy/visualize-the-location-and-3d-bounding-box-of-car\n",
    "* CenterNet paper https://arxiv.org/pdf/1904.07850.pdf\n",
    "* CenterNet repository https://github.com/xingyizhou/CenterNet\n",
    "\n",
    "Change log:\n",
    "* v14: better inference: added `optimize_xy` function | LB 0.093\n",
    "* v15: horizontal flip augmentation | ERROR\n",
    "* v16: faster training (made smaller padding) | LB 0.089\n",
    "* v17: smaller image size and better image proportions | LB 0.066\n",
    "* v18: image size back; changed flip probability; **new visualizations** | LB ?"
   ]
  },
  {
   "cell_type": "markdown",
   "metadata": {
    "collapsed": false
   },
   "source": [
    "# What is this competition about?\n",
    "1. You are given the images taken from the roof of a car\n",
    "    * ~4k training images\n",
    "    * Always the same car and the same camera\n",
    "2. You are asked to detect other cars on that image\n",
    "    * There can be many cars\n",
    "    * You need to predict their positions\n",
    "![](https://i.ibb.co/7RJ2Wbs/results-33-2.png)\n",
    "#从图片中预测车辆的位置\n",
    "\n",
    "## What is in this notebook?\n",
    "* Data distributions: 1D, 2D and 3D\n",
    "* Functions to transform between camera coordinates and road coordinates\n",
    "* Simple CenterNet baseline\n",
    "*数据分布：1D、2D和3D\n",
    "*摄像机坐标和道路坐标之间的转换函数\n",
    "*简单CenterNet baseline\n",
    "\n",
    "## CenterNet\n",
    "This architecture predicts centers of objects as a heatmap.  \n",
    "It predicts sizes of the boxes as a regression task.  \n",
    "![](https://github.com/xingyizhou/CenterNet/raw/master/readme/fig2.png)\n",
    "这种结构将物体的中心预测为热图。\n",
    "它将框的大小作为回归任务进行预测。\n",
    "\n",
    "It is also used for pose estimation:\n",
    "![](https://raw.githubusercontent.com/xingyizhou/CenterNet/master/readme/pose3.png)\n",
    "*(images from the [original repository](https://github.com/xingyizhou/CenterNet))*  \n",
    "Coordinates of human joints are also predicted using regression.  \n",
    "\n",
    "I use this idea to predict `x, y, z` coordinates of the vehicle and also `yaw, pitch_cos, pitch_sin, roll` angles.  \n",
    "For `pitch` I predict sin and cos, because, as we will see, this angle can be both near 0 and near 3.14.  \n",
    "These 7 parameters are my regression target variables instead of `shift_x, shift_y, size_x, size_y`.  \n",
    "我用这个想法来预测车辆的“x，y，z”坐标以及“偏航，俯仰，俯仰，侧倾”角度。  y p r (左上前)\n",
    "对于“pitch”，我预测sin和cos，因为正如我们将看到的，这个角度可以接近0，也可以接近3.14。\n",
    "这7个参数是我的回归目标变量，而不是“shift_x，shift_y，size_x，size_y”。"
   ]
  },
  {
   "cell_type": "code",
   "execution_count": 1,
   "metadata": {
    "collapsed": false
   },
   "outputs": [
    {
     "name": "stdout",
     "output_type": "stream",
     "text": [
      "Cannot run import torch because of system compatibility. AI Studio prepared an entire environment based on PaddlePaddle already. Please use PaddlePaddle to build your own model or application.\n"
     ]
    }
   ],
   "source": [
    "import numpy as np # linear algebra 线性代数\n",
    "import pandas as pd # data processing, CSV file I/O (e.g. pd.read_csv) 数据处理，CSV文件I/O（例如pd.read_CSV）\n",
    "import cv2\n",
    "from tqdm import tqdm#_notebook as tqdm Tqdm模块——进度条配置\n",
    "import matplotlib.pyplot as plt\n",
    "import seaborn as sns # 画图分析工具\n",
    "from functools import reduce #高阶函数 functools模块是为了高阶函数（该高阶函数的定义为作用于或返回其它函数的函数）而设置的。一般来说，任何可调用的对象在该模块中都可被当做函数而处理\n",
    "import os\n",
    "from scipy.optimize import minimize #scipy.optimize优化器\n",
    "import plotly.express as px  #可视化神器\n",
    "\n",
    "from sklearn.model_selection import train_test_split # train_test_split返回切分的数据集train/test\n",
    "from sklearn.linear_model import LinearRegression #基于最小二乘法的线性回归\n",
    "from sklearn.metrics import mean_absolute_error, mean_squared_error # 平均绝对误差（Mean Absolute Error，MAE） 均方差（Mean squared error，MSE）\n",
    "\n",
    "import torch\n",
    "import torch.nn as nn      #导入torch.nn 模块\n",
    "import torch.nn.functional as F   #导入torch.nn 模块\n",
    "import torch.optim as optim   # torch.optim优化神经网络以及优化器的选择\n",
    "from torch.optim import lr_scheduler  # pytorch中调整学习率: torch.optim.lr_scheduler\n",
    "from torch.utils.data import Dataset, DataLoader # pytorch实现自由的数据读取－torch.utils.data的学习\n",
    "from torchvision import models # Pytorch——计算机视觉工具包：torchvision\n",
    "from torchvision import transforms, utils \n",
    "\n",
    "PATH = '../input/pku-autonomous-driving/'\n",
    "os.listdir(PATH)"
   ]
  },
  {
   "cell_type": "markdown",
   "metadata": {
    "collapsed": false
   },
   "source": [
    "![](http://)# Load data 加载数据"
   ]
  },
  {
   "cell_type": "markdown",
   "metadata": {
    "collapsed": false
   },
   "source": [
    "\"\"\"\n",
    "'PATH 数据集的位置\n",
    "train 训练集的数据\n",
    "test 测试集的数据\n",
    "\"\"\""
   ]
  },
  {
   "cell_type": "code",
   "execution_count": 2,
   "metadata": {
    "collapsed": false
   },
   "outputs": [
    {
     "ename": "NameError",
     "evalue": "name 'pd' is not defined",
     "output_type": "error",
     "traceback": [
      "\u001b[0;31m---------------------------------------------------------------------------\u001b[0m",
      "\u001b[0;31mNameError\u001b[0m                                 Traceback (most recent call last)",
      "\u001b[0;32m<ipython-input-2-c486a17a1b75>\u001b[0m in \u001b[0;36m<module>\u001b[0;34m\u001b[0m\n\u001b[1;32m      5\u001b[0m \u001b[0mcamera_matrix_inv\u001b[0m \u001b[0m对相机内参数进行矩阵求逆后的数据\u001b[0m\u001b[0;34m\u001b[0m\u001b[0;34m\u001b[0m\u001b[0m\n\u001b[1;32m      6\u001b[0m \"\"\"\n\u001b[0;32m----> 7\u001b[0;31m \u001b[0mtrain\u001b[0m \u001b[0;34m=\u001b[0m \u001b[0mpd\u001b[0m\u001b[0;34m.\u001b[0m\u001b[0mread_csv\u001b[0m\u001b[0;34m(\u001b[0m\u001b[0mPATH\u001b[0m \u001b[0;34m+\u001b[0m \u001b[0;34m'train.csv'\u001b[0m\u001b[0;34m)\u001b[0m\u001b[0;34m\u001b[0m\u001b[0;34m\u001b[0m\u001b[0m\n\u001b[0m\u001b[1;32m      8\u001b[0m \u001b[0mtest\u001b[0m \u001b[0;34m=\u001b[0m \u001b[0mpd\u001b[0m\u001b[0;34m.\u001b[0m\u001b[0mread_csv\u001b[0m\u001b[0;34m(\u001b[0m\u001b[0mPATH\u001b[0m \u001b[0;34m+\u001b[0m \u001b[0;34m'sample_submission.csv'\u001b[0m\u001b[0;34m)\u001b[0m\u001b[0;34m\u001b[0m\u001b[0;34m\u001b[0m\u001b[0m\n\u001b[1;32m      9\u001b[0m \u001b[0;34m\u001b[0m\u001b[0m\n",
      "\u001b[0;31mNameError\u001b[0m: name 'pd' is not defined"
     ]
    }
   ],
   "source": [
    "\"\"\"\n",
    "'PATH 数据集的位置\n",
    "train 训练集的数据\n",
    "test 测试集的数据\n",
    "camera_matrix_inv 对相机内参数进行矩阵求逆后的数据\n",
    "\"\"\"\n",
    "train = pd.read_csv(PATH + 'train.csv')\n",
    "test = pd.read_csv(PATH + 'sample_submission.csv')\n",
    "\n",
    "# From camera.zip\n",
    "camera_matrix = np.array([[2304.5479, 0,  1686.2379],\n",
    "                          [0, 2305.8757, 1354.9849],\n",
    "                          [0, 0, 1]], dtype=np.float32)\n",
    "camera_matrix_inv = np.linalg.inv(camera_matrix) #np.linalg.inv 矩阵求逆 3D相机内参数\n",
    "\n",
    "train.head()"
   ]
  },
  {
   "cell_type": "markdown",
   "metadata": {
    "collapsed": false
   },
   "source": [
    "**ImageId** column contains names of images:"
   ]
  },
  {
   "cell_type": "code",
   "execution_count": null,
   "metadata": {
    "collapsed": false
   },
   "outputs": [],
   "source": [
    "camera_matrix_inv"
   ]
  },
  {
   "cell_type": "code",
   "execution_count": null,
   "metadata": {
    "collapsed": false
   },
   "outputs": [],
   "source": [
    "# 显示第一张图片 ???\n",
    "'''\n",
    "imread 函数读取图片并返回 img参数\n",
    "'''\n",
    "def imread(path, fast_mode=False):\n",
    "    img = cv2.imread(path)\n",
    "    if not fast_mode and img is not None and len(img.shape) == 3:\n",
    "        img = np.array(img[:, :, ::-1]) # 为什么是 -1 ????\n",
    "    return img\n",
    "\n",
    "img = imread(PATH + 'train_images/ID_8a6e65317' + '.jpg')\n",
    "IMG_SHAPE = img.shape\n",
    "\n",
    "plt.figure(figsize=(15,8))\n",
    "plt.imshow(img);"
   ]
  },
  {
   "cell_type": "markdown",
   "metadata": {
    "collapsed": false
   },
   "source": [
    "**PredictionString** column contains pose information about all cars  \n",
    "\n",
    "From the data description:\n",
    "> The primary data is images of cars and related pose information. The pose information is formatted as strings, as follows:  \n",
    ">\n",
    "> `model type, yaw, pitch, roll, x, y, z`  \n",
    ">\n",
    "> A concrete example with two cars in the photo:  \n",
    ">\n",
    "> `5 0.5 0.5 0.5 0.0 0.0 0.0 32 0.25 0.25 0.25 0.5 0.4 0.7`  \n",
    "\n",
    "We will need a function to extract these values:\n",
    "\n",
    "PredictionString列包含有关所有汽车的姿势信息\n",
    "从数据描述：\n",
    "主要数据是汽车图像和相关的姿态信息。姿势信息被格式化为字符串，如下所示：\n",
    "型号，偏航，俯仰，横摇，x，y，z\n",
    "照片中有两辆车的具体例子：\n",
    "5 0.5 0.5 0.5 0.0 0.0 0.0 32 0.25 0.25 0.25 0.5 0.4 0.7\n",
    "我们需要一个函数来提取这些值："
   ]
  },
  {
   "cell_type": "code",
   "execution_count": null,
   "metadata": {
    "collapsed": false
   },
   "outputs": [],
   "source": [
    "\n",
    "'''\n",
    "str2coords 汽车姿势提取函数\n",
    "coords  返回包含汽车姿势的字典列表 \n",
    "'''\n",
    "def str2coords(s, names=['id', 'yaw', 'pitch', 'roll', 'x', 'y', 'z']):\n",
    "    '''\n",
    "    Input:\n",
    "        s: PredictionString (e.g. from train dataframe)\n",
    "        names: array of what to extract from the string\n",
    "    Output:\n",
    "        list of dicts with keys from `names`\n",
    "    '''\n",
    "    coords = []\n",
    "    for l in np.array(s.split()).reshape([-1, 7]):\n",
    "        coords.append(dict(zip(names, l.astype('float'))))\n",
    "        if 'id' in coords[-1]:\n",
    "            coords[-1]['id'] = int(coords[-1]['id'])\n",
    "    return coords"
   ]
  },
  {
   "cell_type": "code",
   "execution_count": null,
   "metadata": {
    "collapsed": false
   },
   "outputs": [],
   "source": [
    "inp = train['PredictionString'][0]\n",
    "print('Example input:\\n', inp)\n",
    "print()\n",
    "print('Output:\\n', str2coords(inp))"
   ]
  },
  {
   "cell_type": "markdown",
   "metadata": {
    "collapsed": false
   },
   "source": [
    "# Data distributions\n",
    "数据分布"
   ]
  },
  {
   "cell_type": "code",
   "execution_count": null,
   "metadata": {
    "collapsed": false
   },
   "outputs": [],
   "source": [
    "lens = [len(str2coords(s)) for s in train['PredictionString']]\n",
    "\n",
    "plt.figure(figsize=(15,6))\n",
    "sns.countplot(lens);\n",
    "plt.xlabel('Number of cars in image');"
   ]
  },
  {
   "cell_type": "markdown",
   "metadata": {
    "collapsed": false
   },
   "source": [
    "DataFrame of all points"
   ]
  },
  {
   "cell_type": "code",
   "execution_count": null,
   "metadata": {
    "collapsed": false
   },
   "outputs": [],
   "source": [
    "#所有数据点转换成dataframe形式\n",
    "points_df = pd.DataFrame()\n",
    "for col in ['x', 'y', 'z', 'yaw', 'pitch', 'roll']:\n",
    "    arr = []\n",
    "    for ps in train['PredictionString']:\n",
    "        coords = str2coords(ps)\n",
    "        arr += [c[col] for c in coords]\n",
    "    points_df[col] = arr\n",
    "\n",
    "print('len(points_df)', len(points_df))\n",
    "points_df.head()"
   ]
  },
  {
   "cell_type": "code",
   "execution_count": null,
   "metadata": {
    "collapsed": false
   },
   "outputs": [],
   "source": [
    "plt.figure(figsize=(15,6))\n",
    "sns.distplot(points_df['x'],bins = 500); # bins: argument for matplotlib hist(), or None, optional #设置矩形图数量 默认为none 此处为500\n",
    "plt.xlabel('x')\n",
    "plt.show()"
   ]
  },
  {
   "cell_type": "code",
   "execution_count": null,
   "metadata": {
    "collapsed": false
   },
   "outputs": [],
   "source": [
    "plt.figure(figsize=(15,6))\n",
    "sns.distplot(points_df['y'], bins=500);\n",
    "plt.xlabel('y')\n",
    "plt.show()"
   ]
  },
  {
   "cell_type": "code",
   "execution_count": null,
   "metadata": {
    "collapsed": false
   },
   "outputs": [],
   "source": [
    "plt.figure(figsize=(15,6))\n",
    "sns.distplot(points_df['z'], bins=500);\n",
    "plt.xlabel('z')\n",
    "plt.show()"
   ]
  },
  {
   "cell_type": "code",
   "execution_count": null,
   "metadata": {
    "collapsed": false
   },
   "outputs": [],
   "source": [
    "plt.figure(figsize=(15,6))\n",
    "sns.distplot(points_df['yaw'], bins=500);\n",
    "plt.xlabel('yaw')\n",
    "plt.show()"
   ]
  },
  {
   "cell_type": "code",
   "execution_count": null,
   "metadata": {
    "collapsed": false
   },
   "outputs": [],
   "source": [
    "plt.figure(figsize=(15,6))\n",
    "sns.distplot(points_df['pitch'], bins=500);\n",
    "plt.xlabel('pitch')\n",
    "plt.show()"
   ]
  },
  {
   "cell_type": "markdown",
   "metadata": {
    "collapsed": false
   },
   "source": [
    "I guess, pitch and yaw are mixed up in this dataset. Pitch cannot be that big. That would mean that cars are upside down."
   ]
  },
  {
   "cell_type": "code",
   "execution_count": null,
   "metadata": {
    "collapsed": false
   },
   "outputs": [],
   "source": [
    "'''\n",
    "rotate函数 按圆周率旋转 \n",
    "\n",
    "'''\n",
    "def rotate(x, angle):\n",
    "    x = x + angle\n",
    "    x = x - (x + np.pi) // (2 * np.pi) * 2 * np.pi #  对 x 进行处理\n",
    "    return x\n",
    "\n",
    "# 对roll 这一列的数字进行处理 \n",
    "plt.figure(figsize=(15,6))\n",
    "sns.distplot(points_df['roll'].map(lambda x: rotate(x, np.pi)), bins=500); # map()是Series对象的一个函数，DataFrame中没有map()，map()的功能是将一个自定义函数作用于Series对象的每个元素\n",
    "plt.xlabel('roll rotated by pi')\n",
    "plt.show()"
   ]
  },
  {
   "cell_type": "markdown",
   "metadata": {
    "collapsed": false
   },
   "source": [
    "# 2D Visualization"
   ]
  },
  {
   "cell_type": "code",
   "execution_count": 3,
   "metadata": {
    "collapsed": false
   },
   "outputs": [
    {
     "ename": "NameError",
     "evalue": "name 'plt' is not defined",
     "output_type": "error",
     "traceback": [
      "\u001b[0;31m---------------------------------------------------------------------------\u001b[0m",
      "\u001b[0;31mNameError\u001b[0m                                 Traceback (most recent call last)",
      "\u001b[0;32m<ipython-input-3-cb5665d0f7cb>\u001b[0m in \u001b[0;36m<module>\u001b[0;34m\u001b[0m\n\u001b[1;32m     24\u001b[0m     \u001b[0;32mreturn\u001b[0m \u001b[0mimg_xs\u001b[0m\u001b[0;34m,\u001b[0m \u001b[0mimg_ys\u001b[0m\u001b[0;34m\u001b[0m\u001b[0;34m\u001b[0m\u001b[0m\n\u001b[1;32m     25\u001b[0m \u001b[0;34m\u001b[0m\u001b[0m\n\u001b[0;32m---> 26\u001b[0;31m \u001b[0mplt\u001b[0m\u001b[0;34m.\u001b[0m\u001b[0mfigure\u001b[0m\u001b[0;34m(\u001b[0m\u001b[0mfigsize\u001b[0m\u001b[0;34m=\u001b[0m\u001b[0;34m(\u001b[0m\u001b[0;36m14\u001b[0m\u001b[0;34m,\u001b[0m\u001b[0;36m14\u001b[0m\u001b[0;34m)\u001b[0m\u001b[0;34m)\u001b[0m\u001b[0;34m\u001b[0m\u001b[0;34m\u001b[0m\u001b[0m\n\u001b[0m\u001b[1;32m     27\u001b[0m \u001b[0mplt\u001b[0m\u001b[0;34m.\u001b[0m\u001b[0mimshow\u001b[0m\u001b[0;34m(\u001b[0m\u001b[0mimread\u001b[0m\u001b[0;34m(\u001b[0m\u001b[0mPATH\u001b[0m \u001b[0;34m+\u001b[0m \u001b[0;34m'train_images/'\u001b[0m \u001b[0;34m+\u001b[0m \u001b[0mtrain\u001b[0m\u001b[0;34m[\u001b[0m\u001b[0;34m'ImageId'\u001b[0m\u001b[0;34m]\u001b[0m\u001b[0;34m[\u001b[0m\u001b[0;36m2217\u001b[0m\u001b[0;34m]\u001b[0m \u001b[0;34m+\u001b[0m \u001b[0;34m'.jpg'\u001b[0m\u001b[0;34m)\u001b[0m\u001b[0;34m)\u001b[0m\u001b[0;34m\u001b[0m\u001b[0;34m\u001b[0m\u001b[0m\n\u001b[1;32m     28\u001b[0m \u001b[0mplt\u001b[0m\u001b[0;34m.\u001b[0m\u001b[0mscatter\u001b[0m\u001b[0;34m(\u001b[0m\u001b[0;34m*\u001b[0m\u001b[0mget_img_coords\u001b[0m\u001b[0;34m(\u001b[0m\u001b[0mtrain\u001b[0m\u001b[0;34m[\u001b[0m\u001b[0;34m'PredictionString'\u001b[0m\u001b[0;34m]\u001b[0m\u001b[0;34m[\u001b[0m\u001b[0;36m2217\u001b[0m\u001b[0;34m]\u001b[0m\u001b[0;34m)\u001b[0m\u001b[0;34m,\u001b[0m \u001b[0mcolor\u001b[0m\u001b[0;34m=\u001b[0m\u001b[0;34m'red'\u001b[0m\u001b[0;34m,\u001b[0m \u001b[0ms\u001b[0m\u001b[0;34m=\u001b[0m\u001b[0;36m100\u001b[0m\u001b[0;34m)\u001b[0m\u001b[0;34m;\u001b[0m\u001b[0;34m\u001b[0m\u001b[0;34m\u001b[0m\u001b[0m\n",
      "\u001b[0;31mNameError\u001b[0m: name 'plt' is not defined"
     ]
    }
   ],
   "source": [
    "'''\n",
    "get_img_coords() 输入PredictionString 返回汽车的x y 坐标 方便显示在照片上\n",
    "img_xs, img_ys 返回的数值\n",
    "'''\n",
    "def get_img_coords(s):\n",
    "    '''\n",
    "    Input is a PredictionString (e.g. from train dataframe)\n",
    "    Output is two arrays:\n",
    "        xs: x coordinates in the image (row)\n",
    "        ys: y coordinates in the image (column)\n",
    "        \n",
    "        输入是一个PredictionString（例如，来自train dataframe）\n",
    "        输出是两个数组：\n",
    "        图像（行）中的xs:x坐标\n",
    "        ys：图像中的y坐标（列）\n",
    "    '''\n",
    "    coords = str2coords(s)\n",
    "    xs = [c['x'] for c in coords]\n",
    "    ys = [c['y'] for c in coords]\n",
    "    zs = [c['z'] for c in coords]\n",
    "    P = np.array(list(zip(xs, ys, zs))).T\n",
    "    img_p = np.dot(camera_matrix, P).T\n",
    "    img_p[:, 0] /= img_p[:, 2]\n",
    "    img_p[:, 1] /= img_p[:, 2]\n",
    "    img_xs = img_p[:, 0]\n",
    "    img_ys = img_p[:, 1]\n",
    "    img_zs = img_p[:, 2] # z = Distance from the camera\n",
    "    return img_xs, img_ys\n",
    "\n",
    "plt.figure(figsize=(14,14))\n",
    "plt.imshow(imread(PATH + 'train_images/' + train['ImageId'][2217] + '.jpg'))\n",
    "plt.scatter(*get_img_coords(train['PredictionString'][2217]), color='red', s=100);"
   ]
  },
  {
   "cell_type": "markdown",
   "metadata": {
    "collapsed": false
   },
   "source": [
    "1. One point is out of image!\n",
    "有一个点 在图像的外面"
   ]
  },
  {
   "cell_type": "markdown",
   "metadata": {
    "collapsed": false
   },
   "source": [
    "Let's look at the distribution of all points. Image is here just for reference.\n",
    "让我们看看所有点的分布 图片仅供参考"
   ]
  },
  {
   "cell_type": "code",
   "execution_count": null,
   "metadata": {
    "collapsed": false
   },
   "outputs": [],
   "source": [
    "'''\n",
    "xs, ys = [], [] 包含了所有照片中车辆在图片的x y 位置信息\n",
    "\n",
    "'''\n",
    "xs, ys = [], []\n",
    "\n",
    "for ps in train['PredictionString']:\n",
    "    x, y = get_img_coords(ps)\n",
    "    xs += list(x)\n",
    "    ys += list(y)\n",
    "\n",
    "plt.figure(figsize=(18,18))\n",
    "plt.imshow(imread(PATH + 'train_images/' + train['ImageId'][2217] + '.jpg'), alpha=0.3)\n",
    "plt.scatter(xs, ys, color='red', s=10, alpha=0.2);"
   ]
  },
  {
   "cell_type": "markdown",
   "metadata": {
    "collapsed": false
   },
   "source": [
    "Many points are outside!"
   ]
  },
  {
   "cell_type": "markdown",
   "metadata": {
    "collapsed": false
   },
   "source": [
    "Let's look at this distribution \"from the sky\""
   ]
  },
  {
   "cell_type": "code",
   "execution_count": null,
   "metadata": {
    "collapsed": false
   },
   "outputs": [],
   "source": [
    "# Road points \n",
    "road_width = 3\n",
    "road_xs = [-road_width, road_width, road_width, -road_width, -road_width]\n",
    "road_ys = [0, 0, 500, 500, 0]\n",
    "\n",
    "plt.figure(figsize=(16,16))\n",
    "plt.axes().set_aspect(1)\n",
    "plt.xlim(-50,50)\n",
    "plt.ylim(0,100)\n",
    "\n",
    "# View road\n",
    "plt.fill(road_xs, road_ys, alpha=0.2, color='gray')\n",
    "plt.plot([road_width/2,road_width/2], [0,100], alpha=0.4, linewidth=4, color='white', ls='--')\n",
    "plt.plot([-road_width/2,-road_width/2], [0,100], alpha=0.4, linewidth=4, color='white', ls='--')\n",
    "# View cars\n",
    "plt.scatter(points_df['x'], np.sqrt(points_df['z']**2 + points_df['y']**2), color='red', s=10, alpha=0.1);"
   ]
  },
  {
   "cell_type": "markdown",
   "metadata": {
    "collapsed": false
   },
   "source": [
    "3d distribution of points:"
   ]
  },
  {
   "cell_type": "code",
   "execution_count": null,
   "metadata": {
    "collapsed": false
   },
   "outputs": [],
   "source": [
    "fig = px.scatter_3d(points_df, x='x', y='y', z='z',color='pitch', range_x=(-50,50), range_y=(0,50), range_z=(0,250), opacity=0.1)\n",
    "fig.show()"
   ]
  },
  {
   "cell_type": "markdown",
   "metadata": {
    "collapsed": false
   },
   "source": [
    "1) `x` is measured from left to right  \n",
    "2) I thought that `y` is the distance from the car and `z` is height above the road. Looks like this is not the case.  \n",
    "1）x从左到右测量\n",
    "2）我以为y是离车的距离，z是离路的高度。看来不是这样。"
   ]
  },
  {
   "cell_type": "markdown",
   "metadata": {
    "collapsed": false
   },
   "source": [
    "Let's look how good these points lay in one plane  \n",
    "Try to predict `y` knowing `x, z`:\n",
    "让我们看看这些点在一个平面上有多好\n",
    "试着预测“y”知道“x，z”："
   ]
  },
  {
   "cell_type": "code",
   "execution_count": null,
   "metadata": {
    "collapsed": false
   },
   "outputs": [],
   "source": [
    "# 没有x的时候的 z 与 y 的线性回归的MAE\n",
    "zy_slope = LinearRegression()\n",
    "X = points_df[['z']]\n",
    "y = points_df['y']\n",
    "zy_slope.fit(X, y)\n",
    "print('MAE without x:', mean_absolute_error(y, zy_slope.predict(X)))\n",
    "\n",
    "# 有x的时候的 z 与 y 的线性回归的MAE\n",
    "# Will use this model later 这个模型稍后会用到\n",
    "xzy_slope = LinearRegression()\n",
    "X = points_df[['x', 'z']]\n",
    "y = points_df['y']\n",
    "xzy_slope.fit(X, y)\n",
    "print('MAE with x:', mean_absolute_error(y, xzy_slope.predict(X)))\n",
    "\n",
    "print('\\ndy/dx = {:.3f}\\ndy/dz = {:.3f}'.format(*xzy_slope.coef_))"
   ]
  },
  {
   "cell_type": "code",
   "execution_count": null,
   "metadata": {
    "collapsed": false
   },
   "outputs": [],
   "source": [
    "# zy的线性回归\n",
    "plt.figure(figsize=(16,16))\n",
    "plt.xlim(0,500)\n",
    "plt.ylim(0,100)\n",
    "plt.scatter(points_df['z'], points_df['y'], label='Real points')\n",
    "X_line = np.linspace(0,500, 10)\n",
    "plt.plot(X_line, zy_slope.predict(X_line.reshape(-1, 1)), color='orange', label='Regression')\n",
    "plt.legend()\n",
    "plt.xlabel('z coordinate')\n",
    "plt.ylabel('y coordinate');"
   ]
  },
  {
   "cell_type": "markdown",
   "metadata": {
    "collapsed": false
   },
   "source": [
    "# 3D Visualization\n",
    "Used code from https://www.kaggle.com/zstusnoopy/visualize-the-location-and-3d-bounding-box-of-car, but made it one function\n",
    "\n",
    "这里引用了一个可视化车的位置和边框的算法"
   ]
  },
  {
   "cell_type": "code",
   "execution_count": null,
   "metadata": {
    "collapsed": false
   },
   "outputs": [],
   "source": [
    "'''\n",
    "\n",
    "euler_to_Rot( ) 将欧拉角转换为旋转矩阵\n",
    "np.dot(Y, np.dot(P, R)) 旋转矩阵\n",
    "'''\n",
    "from math import sin, cos\n",
    "\n",
    "\n",
    "def euler_to_Rot(yaw, pitch, roll):\n",
    "    Y = np.array([[cos(yaw), 0, sin(yaw)],\n",
    "                  [0, 1, 0],\n",
    "                  [-sin(yaw), 0, cos(yaw)]])\n",
    "    P = np.array([[1, 0, 0],\n",
    "                  [0, cos(pitch), -sin(pitch)],\n",
    "                  [0, sin(pitch), cos(pitch)]])\n",
    "    R = np.array([[cos(roll), -sin(roll), 0],\n",
    "                  [sin(roll), cos(roll), 0],\n",
    "                  [0, 0, 1]])\n",
    "    return np.dot(Y, np.dot(P, R))"
   ]
  },
  {
   "cell_type": "code",
   "execution_count": null,
   "metadata": {
    "collapsed": false
   },
   "outputs": [],
   "source": [
    "# 画线函数\n",
    "def draw_line(image, points):\n",
    "    color = (255, 0, 0)\n",
    "    cv2.line(image, tuple(points[0][:2]), tuple(points[3][:2]), color, 16)\n",
    "    cv2.line(image, tuple(points[0][:2]), tuple(points[1][:2]), color, 16)\n",
    "    cv2.line(image, tuple(points[1][:2]), tuple(points[2][:2]), color, 16)\n",
    "    cv2.line(image, tuple(points[2][:2]), tuple(points[3][:2]), color, 16)\n",
    "    return image\n",
    "\n",
    "# 画点函数\n",
    "def draw_points(image, points):\n",
    "    for (p_x, p_y, p_z) in points:\n",
    "        cv2.circle(image, (p_x, p_y), int(1000 / p_z), (0, 255, 0), -1)\n",
    "#         if p_x > image.shape[1] or p_y > image.shape[0]:\n",
    "#             print('Point', p_x, p_y, 'is out of image with shape', image.shape)\n",
    "    return image"
   ]
  },
  {
   "cell_type": "code",
   "execution_count": null,
   "metadata": {
    "collapsed": false
   },
   "outputs": [],
   "source": [
    "# coords 包含每张图片里汽车的自由度信息 ？？？\n",
    "\n",
    "'''\n",
    "visualize() 可视化函数 输入img, coords\n",
    "返回含有点和框的 img\n",
    "'''\n",
    "def visualize(img, coords):\n",
    "    # You will also need functions from the previous cells\n",
    "    x_l = 1.02\n",
    "    y_l = 0.80\n",
    "    z_l = 2.31\n",
    "    # 这几个参数的作用？？？\n",
    "    \n",
    "    img = img.copy()\n",
    "    for point in coords:\n",
    "        # Get values\n",
    "        x, y, z = point['x'], point['y'], point['z']\n",
    "        yaw, pitch, roll = -point['pitch'], -point['yaw'], -point['roll']\n",
    "        # Math\n",
    "        Rt = np.eye(4)\n",
    "        t = np.array([x, y, z])\n",
    "        Rt[:3, 3] = t\n",
    "        Rt[:3, :3] = euler_to_Rot(yaw, pitch, roll).T\n",
    "        Rt = Rt[:3, :]\n",
    "        P = np.array([[x_l, -y_l, -z_l, 1],\n",
    "                      [x_l, -y_l, z_l, 1],\n",
    "                      [-x_l, -y_l, z_l, 1],\n",
    "                      [-x_l, -y_l, -z_l, 1],\n",
    "                      [0, 0, 0, 1]]).T\n",
    "        img_cor_points = np.dot(camera_matrix, np.dot(Rt, P))\n",
    "        img_cor_points = img_cor_points.T\n",
    "        img_cor_points[:, 0] /= img_cor_points[:, 2]\n",
    "        img_cor_points[:, 1] /= img_cor_points[:, 2]\n",
    "        img_cor_points = img_cor_points.astype(int)\n",
    "        # Drawing\n",
    "        img = draw_line(img, img_cor_points)\n",
    "        img = draw_points(img, img_cor_points[-1:])\n",
    "    \n",
    "    return img"
   ]
  },
  {
   "cell_type": "code",
   "execution_count": null,
   "metadata": {
    "collapsed": false
   },
   "outputs": [],
   "source": [
    "'''\n",
    "输出六行图片进行对比\n",
    "分别显示原来的图片以及3d可视化 标注了点和框的图片\n",
    "'''\n",
    "n_rows = 6\n",
    "\n",
    "for idx in range(n_rows):\n",
    "    fig, axes = plt.subplots(1, 2, figsize=(20,20))\n",
    "    img = imread(PATH + 'train_images/' + train['ImageId'].iloc[idx] + '.jpg')\n",
    "    axes[0].imshow(img)\n",
    "    img_vis = visualize(img, str2coords(train['PredictionString'].iloc[idx]))\n",
    "    axes[1].imshow(img_vis)\n",
    "    plt.show()"
   ]
  },
  {
   "cell_type": "markdown",
   "metadata": {
    "collapsed": false
   },
   "source": [
    "# Image preprocessing\n",
    "图片处理"
   ]
  },
  {
   "cell_type": "code",
   "execution_count": null,
   "metadata": {
    "collapsed": false
   },
   "outputs": [],
   "source": [
    "'''\n",
    "_regr_preprocess(regr_dict, flip=False)  \t数值处理\n",
    "返回regr_dict\n",
    "\n",
    "_regr_back(regr_dict)   \t\t\t数值处理\n",
    "返回regr_dict\n",
    "\n",
    "preprocess_image(img, flip=False) \t\t图片处理\n",
    "返回img\n",
    "\n",
    "get_mask_and_regr(img, labels, flip=False): 获取mask 和regr\n",
    "返回 mask, regr\n",
    "\n",
    "'''\n",
    "\n",
    "IMG_WIDTH = 1024\n",
    "IMG_HEIGHT = IMG_WIDTH // 16 * 5\n",
    "MODEL_SCALE = 8\n",
    "\n",
    "def _regr_preprocess(regr_dict, flip=False):\n",
    "    if flip:\n",
    "        for k in ['x', 'pitch', 'roll']:\n",
    "            regr_dict[k] = -regr_dict[k]\n",
    "    for name in ['x', 'y', 'z']:\n",
    "        regr_dict[name] = regr_dict[name] / 100\n",
    "    regr_dict['roll'] = rotate(regr_dict['roll'], np.pi)\n",
    "    regr_dict['pitch_sin'] = sin(regr_dict['pitch'])\n",
    "    regr_dict['pitch_cos'] = cos(regr_dict['pitch'])\n",
    "    regr_dict.pop('pitch')\n",
    "    regr_dict.pop('id')\n",
    "    return regr_dict\n",
    "\n",
    "def _regr_back(regr_dict):\n",
    "    for name in ['x', 'y', 'z']:\n",
    "        regr_dict[name] = regr_dict[name] * 100\n",
    "    regr_dict['roll'] = rotate(regr_dict['roll'], -np.pi)\n",
    "    \n",
    "    pitch_sin = regr_dict['pitch_sin'] / np.sqrt(regr_dict['pitch_sin']**2 + regr_dict['pitch_cos']**2)\n",
    "    pitch_cos = regr_dict['pitch_cos'] / np.sqrt(regr_dict['pitch_sin']**2 + regr_dict['pitch_cos']**2)\n",
    "    regr_dict['pitch'] = np.arccos(pitch_cos) * np.sign(pitch_sin)\n",
    "    return regr_dict\n",
    "\n",
    "def preprocess_image(img, flip=False):\n",
    "    img = img[img.shape[0] // 2:]\n",
    "    bg = np.ones_like(img) * img.mean(1, keepdims=True).astype(img.dtype)\n",
    "    bg = bg[:, :img.shape[1] // 6]\n",
    "    img = np.concatenate([bg, img, bg], 1)\n",
    "    img = cv2.resize(img, (IMG_WIDTH, IMG_HEIGHT))\n",
    "    if flip:\n",
    "        img = img[:,::-1]\n",
    "    return (img / 255).astype('float32')\n",
    "\n",
    "def get_mask_and_regr(img, labels, flip=False):\n",
    "    mask = np.zeros([IMG_HEIGHT // MODEL_SCALE, IMG_WIDTH // MODEL_SCALE], dtype='float32')\n",
    "    regr_names = ['x', 'y', 'z', 'yaw', 'pitch', 'roll']\n",
    "    regr = np.zeros([IMG_HEIGHT // MODEL_SCALE, IMG_WIDTH // MODEL_SCALE, 7], dtype='float32')\n",
    "    coords = str2coords(labels)\n",
    "    xs, ys = get_img_coords(labels)\n",
    "    for x, y, regr_dict in zip(xs, ys, coords):\n",
    "        x, y = y, x\n",
    "        x = (x - img.shape[0] // 2) * IMG_HEIGHT / (img.shape[0] // 2) / MODEL_SCALE\n",
    "        x = np.round(x).astype('int')\n",
    "        y = (y + img.shape[1] // 6) * IMG_WIDTH / (img.shape[1] * 4/3) / MODEL_SCALE\n",
    "        y = np.round(y).astype('int')\n",
    "        if x >= 0 and x < IMG_HEIGHT // MODEL_SCALE and y >= 0 and y < IMG_WIDTH // MODEL_SCALE:\n",
    "            mask[x, y] = 1\n",
    "            regr_dict = _regr_preprocess(regr_dict, flip)\n",
    "            regr[x, y] = [regr_dict[n] for n in sorted(regr_dict)]\n",
    "    if flip:\n",
    "        mask = np.array(mask[:,::-1])\n",
    "        regr = np.array(regr[:,::-1])\n",
    "    return mask, regr"
   ]
  },
  {
   "cell_type": "code",
   "execution_count": null,
   "metadata": {
    "collapsed": false
   },
   "outputs": [],
   "source": [
    "img0 = imread(PATH + 'train_images/' + train['ImageId'][0] + '.jpg')\n",
    "img = preprocess_image(img0)\n",
    "\n",
    "mask, regr = get_mask_and_regr(img0, train['PredictionString'][0])\n",
    "\n",
    "print('img.shape', img.shape, 'std:', np.std(img)) #图片 标准差\n",
    "print('mask.shape', mask.shape, 'std:', np.std(mask)) # mask标准差\n",
    "print('regr.shape', regr.shape, 'std:', np.std(regr)) #\n",
    "\n",
    "plt.figure(figsize=(16,16))\n",
    "plt.title('Processed image')\n",
    "plt.imshow(img)\n",
    "plt.show()\n",
    "\n",
    "plt.figure(figsize=(16,16))\n",
    "plt.title('Detection Mask')\n",
    "plt.imshow(mask)\n",
    "plt.show()\n",
    "\n",
    "plt.figure(figsize=(16,16))\n",
    "plt.title('Yaw values')\n",
    "plt.imshow(regr[:,:,-2])\n",
    "plt.show()"
   ]
  },
  {
   "cell_type": "markdown",
   "metadata": {
    "collapsed": false
   },
   "source": [
    "Define functions to convert back from 2d map to 3d coordinates and angles\n",
    "定义从二维地图转换回三维坐标和角度的函数(从图片中抽取出三维信息)"
   ]
  },
  {
   "cell_type": "code",
   "execution_count": null,
   "metadata": {
    "collapsed": false
   },
   "outputs": [],
   "source": [
    "'''\n",
    "convert_3d_to_2d()\n",
    "optimize_xy()       输入r, c, x0, y0, z0 返回x_new, y_new, z_new\n",
    "clear_duplicates(coords)        清楚coords里的重复项\n",
    "extract_coords()    从prediction 中提取出coords\n",
    "coords2str( )    把coords 转换成string\n",
    "'''\n",
    "\n",
    "\n",
    "DISTANCE_THRESH_CLEAR = 2\n",
    "\n",
    "def convert_3d_to_2d(x, y, z, fx = 2304.5479, fy = 2305.8757, cx = 1686.2379, cy = 1354.9849):\n",
    "    # stolen from https://www.kaggle.com/theshockwaverider/eda-visualization-baseline\n",
    "    return x * fx / z + cx, y * fy / z + cy\n",
    "\n",
    "def optimize_xy(r, c, x0, y0, z0, flipped=False):\n",
    "    def distance_fn(xyz):\n",
    "        x, y, z = xyz\n",
    "        xx = -x if flipped else x\n",
    "        slope_err = (xzy_slope.predict([[xx,z]])[0] - y)**2\n",
    "        x, y = convert_3d_to_2d(x, y, z)\n",
    "        y, x = x, y\n",
    "        x = (x - IMG_SHAPE[0] // 2) * IMG_HEIGHT / (IMG_SHAPE[0] // 2) / MODEL_SCALE\n",
    "        y = (y + IMG_SHAPE[1] // 6) * IMG_WIDTH / (IMG_SHAPE[1] * 4 / 3) / MODEL_SCALE\n",
    "        return max(0.2, (x-r)**2 + (y-c)**2) + max(0.4, slope_err)\n",
    "    \n",
    "    res = minimize(distance_fn, [x0, y0, z0], method='Powell')\n",
    "    x_new, y_new, z_new = res.x\n",
    "    return x_new, y_new, z_new\n",
    "\n",
    "# 清除重复项 通过confidence处理\n",
    "def clear_duplicates(coords):\n",
    "    for c1 in coords:\n",
    "        xyz1 = np.array([c1['x'], c1['y'], c1['z']])\n",
    "        for c2 in coords:\n",
    "            xyz2 = np.array([c2['x'], c2['y'], c2['z']])\n",
    "            distance = np.sqrt(((xyz1 - xyz2)**2).sum())\n",
    "            if distance < DISTANCE_THRESH_CLEAR:\n",
    "                if c1['confidence'] < c2['confidence']:\n",
    "                    c1['confidence'] = -1\n",
    "    return [c for c in coords if c['confidence'] > 0]\n",
    "\n",
    "# 提取coords\n",
    "def extract_coords(prediction, flipped=False):\n",
    "    logits = prediction[0]\n",
    "    regr_output = prediction[1:]\n",
    "    points = np.argwhere(logits > 0)\n",
    "    col_names = sorted(['x', 'y', 'z', 'yaw', 'pitch_sin', 'pitch_cos', 'roll'])\n",
    "    coords = []\n",
    "    for r, c in points:\n",
    "        regr_dict = dict(zip(col_names, regr_output[:, r, c]))\n",
    "        coords.append(_regr_back(regr_dict))\n",
    "        coords[-1]['confidence'] = 1 / (1 + np.exp(-logits[r, c]))\n",
    "        coords[-1]['x'], coords[-1]['y'], coords[-1]['z'] = \\\n",
    "                optimize_xy(r, c,\n",
    "                            coords[-1]['x'],\n",
    "                            coords[-1]['y'],\n",
    "                            coords[-1]['z'], flipped)\n",
    "    coords = clear_duplicates(coords)\n",
    "    return coords\n",
    "\n",
    "def coords2str(coords, names=['yaw', 'pitch', 'roll', 'x', 'y', 'z', 'confidence']):\n",
    "    s = []\n",
    "    for c in coords:\n",
    "        for n in names:\n",
    "            s.append(str(c.get(n, 0)))\n",
    "    return ' '.join(s)"
   ]
  },
  {
   "cell_type": "markdown",
   "metadata": {
    "collapsed": false
   },
   "source": [
    "Ensure that all the forward and back transformations work consistently\n",
    "#确保所有前向和后向转换一致地工作"
   ]
  },
  {
   "cell_type": "code",
   "execution_count": null,
   "metadata": {
    "collapsed": false
   },
   "outputs": [],
   "source": [
    "# 翻转\n",
    "for idx in range(2):\n",
    "    fig, axes = plt.subplots(1, 2, figsize=(20,20))\n",
    "    \n",
    "    for ax_i in range(2):\n",
    "        img0 = imread(PATH + 'train_images/' + train['ImageId'].iloc[idx] + '.jpg')\n",
    "        if ax_i == 1:\n",
    "            img0 = img0[:,::-1]\n",
    "        img = preprocess_image(img0, ax_i==1)\n",
    "        mask, regr = get_mask_and_regr(img0, train['PredictionString'][idx], ax_i==1)\n",
    "        regr = np.rollaxis(regr, 2, 0)\n",
    "        coords = extract_coords(np.concatenate([mask[None], regr], 0), ax_i==1)\n",
    "        \n",
    "        axes[ax_i].set_title('Flip = {}'.format(ax_i==1))\n",
    "        axes[ax_i].imshow(visualize(img0, coords))\n",
    "    plt.show()"
   ]
  },
  {
   "cell_type": "markdown",
   "metadata": {
    "collapsed": false
   },
   "source": [
    "# PyTorch Dataset"
   ]
  },
  {
   "cell_type": "code",
   "execution_count": null,
   "metadata": {
    "collapsed": false
   },
   "outputs": [],
   "source": [
    "# ？？？？\n",
    "class CarDataset(Dataset):\n",
    "    \"\"\"Car dataset.\"\"\"\n",
    "\n",
    "    def __init__(self, dataframe, root_dir, training=True, transform=None):\n",
    "        self.df = dataframe\n",
    "        self.root_dir = root_dir\n",
    "        self.transform = transform\n",
    "        self.training = training\n",
    "\n",
    "    def __len__(self):\n",
    "        return len(self.df)\n",
    "\n",
    "    def __getitem__(self, idx):\n",
    "        if torch.is_tensor(idx):\n",
    "            idx = idx.tolist()\n",
    "        \n",
    "        # Get image name 获取图片名字\n",
    "        idx, labels = self.df.values[idx]\n",
    "        img_name = self.root_dir.format(idx)\n",
    "        \n",
    "        # Augmentation \n",
    "        #数据增强 ？？？\n",
    "        \n",
    "        flip = False\n",
    "        if self.training:\n",
    "            flip = np.random.randint(10) == 1\n",
    "        \n",
    "        # Read image\n",
    "        img0 = imread(img_name, True)\n",
    "        img = preprocess_image(img0, flip=flip)\n",
    "        img = np.rollaxis(img, 2, 0)\n",
    "        \n",
    "        # Get mask and regression maps\n",
    "        mask, regr = get_mask_and_regr(img0, labels, flip=False)\n",
    "        regr = np.rollaxis(regr, 2, 0)\n",
    "        \n",
    "        return [img, mask, regr]"
   ]
  },
  {
   "cell_type": "code",
   "execution_count": null,
   "metadata": {
    "collapsed": false
   },
   "outputs": [],
   "source": [
    "'''\n",
    "df_train, df_dev 原始训练集切分出来的训练集和数据集\n",
    "df_test 原始数据集\n",
    "新生成的\n",
    "train_dataset\n",
    "dev_dataset\n",
    "test_dataset\n",
    "'''\n",
    "\n",
    "\n",
    "\n",
    "train_images_dir = PATH + 'train_images/{}.jpg'\n",
    "test_images_dir = PATH + 'test_images/{}.jpg'\n",
    "\n",
    "df_train, df_dev = train_test_split(train, test_size=0.01, random_state=42)\n",
    "df_test = test\n",
    "\n",
    "# Create dataset objects\n",
    "train_dataset = CarDataset(df_train, train_images_dir, training=True)\n",
    "dev_dataset = CarDataset(df_dev, train_images_dir, training=False)\n",
    "test_dataset = CarDataset(df_test, test_images_dir, training=False)"
   ]
  },
  {
   "cell_type": "markdown",
   "metadata": {
    "collapsed": false
   },
   "source": [
    "Show some generated examples\n",
    "一些生成的例子"
   ]
  },
  {
   "cell_type": "code",
   "execution_count": null,
   "metadata": {
    "collapsed": false
   },
   "outputs": [],
   "source": [
    "img, mask, regr = train_dataset[0]\n",
    "\n",
    "plt.figure(figsize=(16,16))\n",
    "plt.imshow(np.rollaxis(img, 0, 3))\n",
    "plt.show()\n",
    "\n",
    "plt.figure(figsize=(16,16))\n",
    "plt.imshow(mask)\n",
    "plt.show()\n",
    "\n",
    "plt.figure(figsize=(16,16))\n",
    "plt.imshow(regr[-2])\n",
    "plt.show()"
   ]
  },
  {
   "cell_type": "code",
   "execution_count": null,
   "metadata": {
    "collapsed": false
   },
   "outputs": [],
   "source": [
    "BATCH_SIZE = 4\n",
    "\n",
    "'''\n",
    "数据生成器\n",
    "pytorch实现自由的数据读取\n",
    "train_loader\n",
    "dev_loader\n",
    "test_loader\n",
    "'''\n",
    "\n",
    "# Create data generators - they will produce batches\n",
    "# 创建数据生成器-它们将生成批处理\n",
    "train_loader = DataLoader(dataset=train_dataset, batch_size=BATCH_SIZE, shuffle=True, num_workers=4)\n",
    "dev_loader = DataLoader(dataset=dev_dataset, batch_size=BATCH_SIZE, shuffle=False, num_workers=0)\n",
    "test_loader = DataLoader(dataset=test_dataset, batch_size=BATCH_SIZE, shuffle=False, num_workers=0)"
   ]
  },
  {
   "cell_type": "markdown",
   "metadata": {
    "collapsed": false
   },
   "source": [
    "# PyTorch Model"
   ]
  },
  {
   "cell_type": "code",
   "execution_count": null,
   "metadata": {
    "collapsed": false
   },
   "outputs": [],
   "source": [
    "!pip install efficientnet-pytorch\n",
    "# EfficientNet开源缩放模型"
   ]
  },
  {
   "cell_type": "code",
   "execution_count": null,
   "metadata": {
    "collapsed": false
   },
   "outputs": [],
   "source": [
    "from efficientnet_pytorch import EfficientNet"
   ]
  },
  {
   "cell_type": "code",
   "execution_count": null,
   "metadata": {
    "collapsed": false
   },
   "outputs": [],
   "source": [
    "class double_conv(nn.Module):\n",
    "    '''(conv => BN => ReLU) * 2'''\n",
    "    def __init__(self, in_ch, out_ch):\n",
    "        super(double_conv, self).__init__()\n",
    "        self.conv = nn.Sequential(\n",
    "            nn.Conv2d(in_ch, out_ch, 3, padding=1),\n",
    "            nn.BatchNorm2d(out_ch),\n",
    "            nn.ReLU(inplace=True),\n",
    "            nn.Conv2d(out_ch, out_ch, 3, padding=1),\n",
    "            nn.BatchNorm2d(out_ch),\n",
    "            nn.ReLU(inplace=True)\n",
    "        )\n",
    "\n",
    "    def forward(self, x):\n",
    "        x = self.conv(x)\n",
    "        return x\n",
    "\n",
    "class up(nn.Module):\n",
    "    def __init__(self, in_ch, out_ch, bilinear=True):\n",
    "        super(up, self).__init__()\n",
    "\n",
    "        #  would be a nice idea if the upsampling could be learned too,\n",
    "        #  but my machine do not have enough memory to handle all those weights\n",
    "        #如果我们也能学会上采样的话那是个好主意，\n",
    "        #但是我的机器没有足够的内存来处理这些重量\n",
    "        if bilinear:\n",
    "            self.up = nn.Upsample(scale_factor=2, mode='bilinear', align_corners=True)\n",
    "        else:\n",
    "            self.up = nn.ConvTranspose2d(in_ch//2, in_ch//2, 2, stride=2)\n",
    "\n",
    "        self.conv = double_conv(in_ch, out_ch)\n",
    "\n",
    "    def forward(self, x1, x2=None):\n",
    "        x1 = self.up(x1)\n",
    "        \n",
    "        # input is CHW\n",
    "        diffY = x2.size()[2] - x1.size()[2]\n",
    "        diffX = x2.size()[3] - x1.size()[3]\n",
    "\n",
    "        x1 = F.pad(x1, (diffX // 2, diffX - diffX//2,\n",
    "                        diffY // 2, diffY - diffY//2))\n",
    "        \n",
    "        # for padding issues, see \n",
    "        # https://github.com/HaiyongJiang/U-Net-Pytorch-Unstructured-Buggy/commit/0e854509c2cea854e247a9c615f175f76fbb2e3a\n",
    "        # https://github.com/xiaopeng-liao/Pytorch-UNet/commit/8ebac70e633bac59fc22bb5195e513d5832fb3bd\n",
    "        \n",
    "        if x2 is not None:\n",
    "            x = torch.cat([x2, x1], dim=1)\n",
    "        else:\n",
    "            x = x1\n",
    "        x = self.conv(x)\n",
    "        return x\n",
    "# 获取网格\n",
    "def get_mesh(batch_size, shape_x, shape_y):\n",
    "    mg_x, mg_y = np.meshgrid(np.linspace(0, 1, shape_y), np.linspace(0, 1, shape_x))\n",
    "    mg_x = np.tile(mg_x[None, None, :, :], [batch_size, 1, 1, 1]).astype('float32')\n",
    "    mg_y = np.tile(mg_y[None, None, :, :], [batch_size, 1, 1, 1]).astype('float32')\n",
    "    mesh = torch.cat([torch.tensor(mg_x).to(device), torch.tensor(mg_y).to(device)], 1)\n",
    "    return mesh"
   ]
  },
  {
   "cell_type": "code",
   "execution_count": null,
   "metadata": {
    "collapsed": false
   },
   "outputs": [],
   "source": [
    "class MyUNet(nn.Module):\n",
    "    '''Mixture of previous classes'''\n",
    "    def __init__(self, n_classes):\n",
    "        super(MyUNet, self).__init__()\n",
    "        self.base_model = EfficientNet.from_pretrained('efficientnet-b0')\n",
    "        \n",
    "        self.conv0 = double_conv(5, 64)\n",
    "        self.conv1 = double_conv(64, 128)\n",
    "        self.conv2 = double_conv(128, 512)\n",
    "        self.conv3 = double_conv(512, 1024)\n",
    "        \n",
    "        self.mp = nn.MaxPool2d(2)\n",
    "        \n",
    "        self.up1 = up(1282 + 1024, 512)\n",
    "        self.up2 = up(512 + 512, 256)\n",
    "        self.outc = nn.Conv2d(256, n_classes, 1)\n",
    "\n",
    "    def forward(self, x):\n",
    "        batch_size = x.shape[0]\n",
    "        mesh1 = get_mesh(batch_size, x.shape[2], x.shape[3])\n",
    "        x0 = torch.cat([x, mesh1], 1)\n",
    "        x1 = self.mp(self.conv0(x0))\n",
    "        x2 = self.mp(self.conv1(x1))\n",
    "        x3 = self.mp(self.conv2(x2))\n",
    "        x4 = self.mp(self.conv3(x3))\n",
    "        \n",
    "        x_center = x[:, :, :, IMG_WIDTH // 8: -IMG_WIDTH // 8]\n",
    "        feats = self.base_model.extract_features(x_center)\n",
    "        bg = torch.zeros([feats.shape[0], feats.shape[1], feats.shape[2], feats.shape[3] // 8]).to(device)\n",
    "        feats = torch.cat([bg, feats, bg], 3)\n",
    "        \n",
    "        # Add positional info\n",
    "        mesh2 = get_mesh(batch_size, feats.shape[2], feats.shape[3])\n",
    "        feats = torch.cat([feats, mesh2], 1)\n",
    "        \n",
    "        x = self.up1(feats, x4)\n",
    "        x = self.up2(x, x3)\n",
    "        x = self.outc(x)\n",
    "        return x"
   ]
  },
  {
   "cell_type": "code",
   "execution_count": null,
   "metadata": {
    "collapsed": false
   },
   "outputs": [],
   "source": [
    "# Gets the GPU if there is one, otherwise the cpu\n",
    "device = torch.device(\"cuda\" if torch.cuda.is_available() else \"cpu\")\n",
    "print(device)\n",
    "\n",
    "n_epochs = 10\n",
    "'''\n",
    "模型\n",
    "优化器设定\n",
    "'''\n",
    "model = MyUNet(8).to(device)\n",
    "optimizer = optim.Adam(model.parameters(), lr=0.001)\n",
    "exp_lr_scheduler = lr_scheduler.StepLR(optimizer, step_size=max(n_epochs, 10) * len(train_loader) // 3, gamma=0.1)"
   ]
  },
  {
   "cell_type": "markdown",
   "metadata": {
    "collapsed": false
   },
   "source": [
    "# Training"
   ]
  },
  {
   "cell_type": "code",
   "execution_count": null,
   "metadata": {
    "collapsed": false
   },
   "outputs": [],
   "source": [
    "def criterion(prediction, mask, regr, size_average=True):\n",
    "    # Binary mask loss\n",
    "    pred_mask = torch.sigmoid(prediction[:, 0])\n",
    "#     mask_loss = mask * (1 - pred_mask)**2 * torch.log(pred_mask + 1e-12) + (1 - mask) * pred_mask**2 * torch.log(1 - pred_mask + 1e-12)\n",
    "    mask_loss = mask * torch.log(pred_mask + 1e-12) + (1 - mask) * torch.log(1 - pred_mask + 1e-12)\n",
    "    mask_loss = -mask_loss.mean(0).sum()\n",
    "    \n",
    "    # Regression L1 loss\n",
    "    pred_regr = prediction[:, 1:]\n",
    "    regr_loss = (torch.abs(pred_regr - regr).sum(1) * mask).sum(1).sum(1) / mask.sum(1).sum(1)\n",
    "    regr_loss = regr_loss.mean(0)\n",
    "    \n",
    "    # Sum\n",
    "    loss = mask_loss + regr_loss\n",
    "    if not size_average:\n",
    "        loss *= prediction.shape[0]\n",
    "    return loss"
   ]
  },
  {
   "cell_type": "code",
   "execution_count": null,
   "metadata": {
    "collapsed": false
   },
   "outputs": [],
   "source": [
    "def train_model(epoch, history=None):\n",
    "    model.train()\n",
    "\n",
    "    for batch_idx, (img_batch, mask_batch, regr_batch) in enumerate(tqdm(train_loader)):\n",
    "        img_batch = img_batch.to(device)\n",
    "        mask_batch = mask_batch.to(device)\n",
    "        regr_batch = regr_batch.to(device)\n",
    "        \n",
    "        optimizer.zero_grad()\n",
    "        output = model(img_batch)\n",
    "        loss = criterion(output, mask_batch, regr_batch)\n",
    "        if history is not None:\n",
    "            history.loc[epoch + batch_idx / len(train_loader), 'train_loss'] = loss.data.cpu().numpy()\n",
    "        \n",
    "        loss.backward()\n",
    "        \n",
    "        optimizer.step()\n",
    "        exp_lr_scheduler.step()\n",
    "    \n",
    "    print('Train Epoch: {} \\tLR: {:.6f}\\tLoss: {:.6f}'.format(\n",
    "        epoch,\n",
    "        optimizer.state_dict()['param_groups'][0]['lr'],\n",
    "        loss.data))\n",
    "\n",
    "def evaluate_model(epoch, history=None):\n",
    "    model.eval()\n",
    "    loss = 0\n",
    "    \n",
    "    with torch.no_grad():\n",
    "        for img_batch, mask_batch, regr_batch in dev_loader:\n",
    "            img_batch = img_batch.to(device)\n",
    "            mask_batch = mask_batch.to(device)\n",
    "            regr_batch = regr_batch.to(device)\n",
    "\n",
    "            output = model(img_batch)\n",
    "\n",
    "            loss += criterion(output, mask_batch, regr_batch, size_average=False).data\n",
    "    \n",
    "    loss /= len(dev_loader.dataset)\n",
    "    \n",
    "    if history is not None:\n",
    "        history.loc[epoch, 'dev_loss'] = loss.cpu().numpy()\n",
    "    \n",
    "    print('Dev loss: {:.4f}'.format(loss))"
   ]
  },
  {
   "cell_type": "code",
   "execution_count": null,
   "metadata": {
    "collapsed": false
   },
   "outputs": [],
   "source": [
    "%%time\n",
    "import gc\n",
    "\n",
    "history = pd.DataFrame()\n",
    "'''\n",
    "循环打印n_epochs中的train_model中的loss 和 evaluate_model 中的loss\n",
    "'''\n",
    "\n",
    "for epoch in range(n_epochs):\n",
    "    torch.cuda.empty_cache()\n",
    "    gc.collect()\n",
    "    train_model(epoch, history)\n",
    "    evaluate_model(epoch, history)"
   ]
  },
  {
   "cell_type": "code",
   "execution_count": null,
   "metadata": {
    "collapsed": false
   },
   "outputs": [],
   "source": [
    "torch.save(model.state_dict(), './model.pth')\n",
    "#保存模型"
   ]
  },
  {
   "cell_type": "code",
   "execution_count": null,
   "metadata": {
    "collapsed": false
   },
   "outputs": [],
   "source": [
    "history['train_loss'].iloc[100:].plot();"
   ]
  },
  {
   "cell_type": "code",
   "execution_count": null,
   "metadata": {
    "collapsed": false
   },
   "outputs": [],
   "source": [
    "series = history.dropna()['dev_loss']\n",
    "plt.scatter(series.index, series);"
   ]
  },
  {
   "cell_type": "markdown",
   "metadata": {
    "collapsed": false
   },
   "source": [
    "# Visualize predictions\n",
    "\n",
    "\n",
    "可视化预测\n"
   ]
  },
  {
   "cell_type": "code",
   "execution_count": null,
   "metadata": {
    "collapsed": false
   },
   "outputs": [],
   "source": [
    "img, mask, regr = dev_dataset[0]\n",
    "\n",
    "plt.figure(figsize=(16,16))\n",
    "plt.title('Input image')\n",
    "plt.imshow(np.rollaxis(img, 0, 3))\n",
    "plt.show()\n",
    "\n",
    "plt.figure(figsize=(16,16))\n",
    "plt.title('Ground truth mask')\n",
    "plt.imshow(mask)\n",
    "plt.show()\n",
    "\n",
    "output = model(torch.tensor(img[None]).to(device))\n",
    "logits = output[0,0].data.cpu().numpy()\n",
    "\n",
    "plt.figure(figsize=(16,16))\n",
    "plt.title('Model predictions')\n",
    "plt.imshow(logits)\n",
    "plt.show()\n",
    "\n",
    "plt.figure(figsize=(16,16))\n",
    "plt.title('Model predictions thresholded')\n",
    "plt.imshow(logits > 0)\n",
    "plt.show()"
   ]
  },
  {
   "cell_type": "code",
   "execution_count": null,
   "metadata": {
    "collapsed": false
   },
   "outputs": [],
   "source": [
    "torch.cuda.empty_cache()\n",
    "gc.collect()\n",
    "\n",
    "for idx in range(8):\n",
    "    img, mask, regr = dev_dataset[idx]\n",
    "    \n",
    "    output = model(torch.tensor(img[None]).to(device)).data.cpu().numpy()\n",
    "    coords_pred = extract_coords(output[0])\n",
    "    coords_true = extract_coords(np.concatenate([mask[None], regr], 0))\n",
    "    \n",
    "    img = imread(train_images_dir.format(df_dev['ImageId'].iloc[idx]))\n",
    "    \n",
    "    fig, axes = plt.subplots(1, 2, figsize=(30,30))\n",
    "    axes[0].set_title('Ground truth')\n",
    "    axes[0].imshow(visualize(img, coords_true))\n",
    "    axes[1].set_title('Prediction')\n",
    "    axes[1].imshow(visualize(img, coords_pred))\n",
    "    plt.show()"
   ]
  },
  {
   "cell_type": "markdown",
   "metadata": {
    "collapsed": false
   },
   "source": [
    "# Make submission"
   ]
  },
  {
   "cell_type": "code",
   "execution_count": null,
   "metadata": {
    "collapsed": false
   },
   "outputs": [],
   "source": [
    "predictions = []\n",
    "\n",
    "test_loader = DataLoader(dataset=test_dataset, batch_size=4, shuffle=False, num_workers=4)\n",
    "\n",
    "model.eval()\n",
    "\n",
    "for img, _, _ in tqdm(test_loader):\n",
    "    with torch.no_grad():\n",
    "        output = model(img.to(device))\n",
    "    output = output.data.cpu().numpy()\n",
    "    for out in output:\n",
    "        coords = extract_coords(out)\n",
    "        s = coords2str(coords)\n",
    "        predictions.append(s)"
   ]
  },
  {
   "cell_type": "code",
   "execution_count": null,
   "metadata": {
    "collapsed": false
   },
   "outputs": [],
   "source": [
    "test = pd.read_csv(PATH + 'sample_submission.csv')\n",
    "test['PredictionString'] = predictions\n",
    "test.to_csv('predictions.csv', index=False)\n",
    "test.head()"
   ]
  }
 ],
 "metadata": {
  "kernelspec": {
   "display_name": "PaddlePaddle 1.6.0 (Python 3.5)",
   "language": "python",
   "name": "py35-paddle1.2.0"
  },
  "language_info": {
   "codemirror_mode": {
    "name": "ipython",
    "version": 3
   },
   "file_extension": ".py",
   "mimetype": "text/x-python",
   "name": "python",
   "nbconvert_exporter": "python",
   "pygments_lexer": "ipython3",
   "version": "3.7.4"
  }
 },
 "nbformat": 4,
 "nbformat_minor": 1
}
